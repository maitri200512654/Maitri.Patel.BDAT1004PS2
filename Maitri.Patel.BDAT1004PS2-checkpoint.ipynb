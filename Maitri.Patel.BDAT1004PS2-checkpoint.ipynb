{
 "cells": [
  {
   "cell_type": "markdown",
   "id": "8ef8e309",
   "metadata": {},
   "source": [
    "Question 1"
   ]
  },
  {
   "cell_type": "code",
   "execution_count": 13,
   "id": "9e6a6ff2",
   "metadata": {},
   "outputs": [],
   "source": [
    "a=0"
   ]
  },
  {
   "cell_type": "code",
   "execution_count": 14,
   "id": "65d4e190",
   "metadata": {},
   "outputs": [],
   "source": [
    "def b():\n",
    "    global a       # all references to a in b() are to global a\n",
    "    a=c(a)         # global a value is passed in function and it is stored in variable a"
   ]
  },
  {
   "cell_type": "code",
   "execution_count": 15,
   "id": "6eb73b50",
   "metadata": {},
   "outputs": [],
   "source": [
    "def c(a):          #when global a is passed firstly its value is 0 \n",
    "    return a+2     # then 2 is added in global a"
   ]
  },
  {
   "cell_type": "code",
   "execution_count": 18,
   "id": "a89f30aa",
   "metadata": {},
   "outputs": [],
   "source": [
    "b() #here by calling function b, a=0 value will be passed in function c where 2 will be added to a and value of a will be 2.\n",
    "            "
   ]
  },
  {
   "cell_type": "code",
   "execution_count": 19,
   "id": "7982852f",
   "metadata": {},
   "outputs": [],
   "source": [
    "b() #here by calling function b,value of a will be 2,it will be passed in function c where 2 is added to a and value of a will be 4.\n"
   ]
  },
  {
   "cell_type": "code",
   "execution_count": 8,
   "id": "bc440247",
   "metadata": {},
   "outputs": [],
   "source": [
    "b() #here by calling function b,value of a will be 4,it will be passed in function c where 2 is added to a and value of a will be 6."
   ]
  },
  {
   "cell_type": "code",
   "execution_count": 9,
   "id": "d89af7c1",
   "metadata": {},
   "outputs": [
    {
     "data": {
      "text/plain": [
       "6"
      ]
     },
     "execution_count": 9,
     "metadata": {},
     "output_type": "execute_result"
    }
   ],
   "source": [
    "a  "
   ]
  },
  {
   "cell_type": "markdown",
   "id": "586f51ed",
   "metadata": {},
   "source": [
    "The Value came after executing last expression(a) is 6."
   ]
  },
  {
   "cell_type": "markdown",
   "id": "f0bec8be",
   "metadata": {},
   "source": [
    "Question 2"
   ]
  },
  {
   "cell_type": "code",
   "execution_count": 1,
   "id": "a6c95868",
   "metadata": {},
   "outputs": [],
   "source": [
    "def file_length(file_name):\n",
    "    try:\n",
    "        file = open(file_name)\n",
    "        contents = file.read()\n",
    "        file.close()\n",
    "        print(len(contents))\n",
    "    except FileNotFoundError:\n",
    "        print('File {} not found.'.format(file_name))\n",
    "        "
   ]
  },
  {
   "cell_type": "code",
   "execution_count": 6,
   "id": "e8cc81ba",
   "metadata": {},
   "outputs": [
    {
     "name": "stdout",
     "output_type": "stream",
     "text": [
      "File file_name not found.\n"
     ]
    }
   ],
   "source": [
    "file_name = 'file1.py'\n",
    "file_length('file_name')"
   ]
  },
  {
   "cell_type": "markdown",
   "id": "22038b80",
   "metadata": {},
   "source": [
    "Question 3"
   ]
  },
  {
   "cell_type": "code",
   "execution_count": 106,
   "id": "49132535",
   "metadata": {},
   "outputs": [
    {
     "name": "stdout",
     "output_type": "stream",
     "text": [
      "['doll', 'firetruck', 'kitten']\n"
     ]
    }
   ],
   "source": [
    "class Marsupial():\n",
    "    \n",
    "    def __init__(self):\n",
    "        self.mlist = []\n",
    "    \n",
    "    def put_in_pouch(self, a):\n",
    "        self.mlist.append(a)\n",
    "    \n",
    "    def pouch_contents(self):\n",
    "        print(self.mlist)\n",
    "        \n",
    "m = Marsupial()\n",
    "m.put_in_pouch('doll')            \n",
    "m.put_in_pouch('firetruck')      \n",
    "m.put_in_pouch('kitten')         \n",
    "m.pouch_contents()   "
   ]
  },
  {
   "cell_type": "code",
   "execution_count": 117,
   "id": "8b859982",
   "metadata": {
    "scrolled": true
   },
   "outputs": [
    {
     "name": "stdout",
     "output_type": "stream",
     "text": [
      "I am kangaroo located at  0 0\n",
      "['doll', 'firetruck', 'kitten']\n",
      "I am a Kangaroo located at coordinates 1 0\n",
      "I am a Kangaroo located at coordinates 1 0\n",
      "I am a Kangaroo located at coordinates 1 0\n"
     ]
    },
    {
     "data": {
      "text/plain": [
       "<__main__.Kangaroo at 0x26ae2410460>"
      ]
     },
     "execution_count": 117,
     "metadata": {},
     "output_type": "execute_result"
    }
   ],
   "source": [
    "class Kangaroo(Marsupial):\n",
    "    def __init__(self, x , y):\n",
    "        #super.__init__(x,y)\n",
    "        self.x=x\n",
    "        self.y=y\n",
    "        self.mlist=[]\n",
    "        print(\"I am kangaroo located at \",x,y)\n",
    "        \n",
    "    def put_in_pouch(self,a):\n",
    "        self.mlist.append(a)\n",
    "        \n",
    "    def jump(self,dx,dy):\n",
    "        dx=0+dx\n",
    "        dy=0+dy\n",
    "              \n",
    "        print(\"I am a Kangaroo located at coordinates\",dx,dy)\n",
    "            \n",
    "            \n",
    "        \n",
    "k = Kangaroo(0,0)\n",
    "k\n",
    "k.put_in_pouch('doll')\n",
    "k.put_in_pouch('firetruck')\n",
    "k.put_in_pouch('kitten')\n",
    "k.pouch_contents()\n",
    "\n",
    "k.jump(1,0)\n",
    "k.jump(1,0)\n",
    "k.jump(1,0)\n",
    "k\n"
   ]
  },
  {
   "cell_type": "code",
   "execution_count": null,
   "id": "d1a83bd1",
   "metadata": {},
   "outputs": [],
   "source": [
    "\n"
   ]
  },
  {
   "cell_type": "code",
   "execution_count": null,
   "id": "8d806532",
   "metadata": {},
   "outputs": [],
   "source": []
  },
  {
   "cell_type": "markdown",
   "id": "7ce1cf1e",
   "metadata": {},
   "source": [
    "Question 4"
   ]
  },
  {
   "cell_type": "code",
   "execution_count": 8,
   "id": "66328c45",
   "metadata": {},
   "outputs": [
    {
     "name": "stdout",
     "output_type": "stream",
     "text": [
      "enter a positive number: 10\n",
      "10\n",
      "5\n",
      "16\n",
      "8\n",
      "4\n",
      "2\n",
      "1\n"
     ]
    }
   ],
   "source": [
    "def collatz(x):\n",
    "    if (x == 1):        \n",
    "        print(1)\n",
    "    elif (x < 1):        \n",
    "        print(\"enter any positive number\")\n",
    "    elif (x % 2 == 0):    \n",
    "        print(int(x))     \n",
    "        x = x/2           \n",
    "        collatz(x)        \n",
    "    else:                 \n",
    "        print(int(x))     \n",
    "        x = (x*3) + 1     \n",
    "        collatz(x)        \n",
    "            \n",
    "x = int(input(\"enter a positive number: \"))\n",
    "collatz(x)\n"
   ]
  },
  {
   "cell_type": "code",
   "execution_count": 9,
   "id": "c5c18ea2",
   "metadata": {},
   "outputs": [
    {
     "name": "stdout",
     "output_type": "stream",
     "text": [
      "enter a positive number: 1\n",
      "1\n"
     ]
    }
   ],
   "source": [
    "x = int(input(\"enter a positive number: \"))\n",
    "collatz(x)"
   ]
  },
  {
   "cell_type": "markdown",
   "id": "b781e70c",
   "metadata": {},
   "source": [
    "Question 5"
   ]
  },
  {
   "cell_type": "code",
   "execution_count": 10,
   "id": "190eb236",
   "metadata": {},
   "outputs": [],
   "source": [
    "def binary(n):\n",
    "   if n > 1:\n",
    "       binary(n//2)\n",
    "   print(n % 2,end = '')"
   ]
  },
  {
   "cell_type": "code",
   "execution_count": 11,
   "id": "a609d651",
   "metadata": {},
   "outputs": [
    {
     "name": "stdout",
     "output_type": "stream",
     "text": [
      "0"
     ]
    }
   ],
   "source": [
    "binary(0)"
   ]
  },
  {
   "cell_type": "code",
   "execution_count": 12,
   "id": "ceac829d",
   "metadata": {},
   "outputs": [
    {
     "name": "stdout",
     "output_type": "stream",
     "text": [
      "1"
     ]
    }
   ],
   "source": [
    "binary(1)"
   ]
  },
  {
   "cell_type": "code",
   "execution_count": 13,
   "id": "ef27b7a4",
   "metadata": {},
   "outputs": [
    {
     "name": "stdout",
     "output_type": "stream",
     "text": [
      "11"
     ]
    }
   ],
   "source": [
    "binary(3)"
   ]
  },
  {
   "cell_type": "code",
   "execution_count": 14,
   "id": "33ed7e9c",
   "metadata": {},
   "outputs": [
    {
     "name": "stdout",
     "output_type": "stream",
     "text": [
      "1001"
     ]
    }
   ],
   "source": [
    "binary(9)"
   ]
  },
  {
   "cell_type": "markdown",
   "id": "6ccffb20",
   "metadata": {},
   "source": [
    "Question 6"
   ]
  },
  {
   "cell_type": "code",
   "execution_count": null,
   "id": "c72b64eb",
   "metadata": {},
   "outputs": [],
   "source": []
  },
  {
   "cell_type": "code",
   "execution_count": 97,
   "id": "7df7558a",
   "metadata": {},
   "outputs": [
    {
     "name": "stdout",
     "output_type": "stream",
     "text": [
      "W3C Mission\n",
      " Principles\n"
     ]
    }
   ],
   "source": [
    "from html.parser import HTMLParser\n",
    "class HeadingParser(HTMLParser):\n",
    "    a = 0      \n",
    "    b = 0     \n",
    "    \n",
    "    def handle_starttag(self, tag, attrs):\n",
    "        if tag in ['h1', 'h2', 'h3', 'h4', 'h5', 'h6']:\n",
    "            self.a = 1                     \n",
    "\n",
    "    def handle_data(self, data):\n",
    "         if self.a == 1:\n",
    "            print(data.rjust(len(data) + self.b), end ='\\n') \n",
    "    def handle_endtag(self, tag):\n",
    "        if tag in ['h1', 'h2', 'h3', 'h4', 'h5', 'h6', 'h7', 'h8', 'h9']:\n",
    "            self.a = 0                    \n",
    "            self.b +=1  \n",
    "            \n",
    "infile=open(\"w3c.html\")\n",
    "content=infile.read()\n",
    "infile.close()\n",
    "hp=HeadingParser()\n",
    "hp.feed(content)\n",
    "\n"
   ]
  },
  {
   "cell_type": "markdown",
   "id": "9c798381",
   "metadata": {},
   "source": [
    "Question 7"
   ]
  },
  {
   "cell_type": "code",
   "execution_count": null,
   "id": "1b74472c",
   "metadata": {},
   "outputs": [],
   "source": [
    "\n",
    "    \n"
   ]
  },
  {
   "cell_type": "markdown",
   "id": "fe1b23bf",
   "metadata": {},
   "source": [
    "Question 8"
   ]
  },
  {
   "cell_type": "code",
   "execution_count": 31,
   "id": "291aa97d",
   "metadata": {},
   "outputs": [],
   "source": [
    "import sqlite3"
   ]
  },
  {
   "cell_type": "code",
   "execution_count": 32,
   "id": "e7287089",
   "metadata": {},
   "outputs": [
    {
     "data": {
      "text/plain": [
       "<sqlite3.Cursor at 0x26ae21ec340>"
      ]
     },
     "execution_count": 32,
     "metadata": {},
     "output_type": "execute_result"
    }
   ],
   "source": [
    "con = sqlite3.connect('info.db')\n",
    "cur = con.cursor()\n",
    "cur.execute(\"CREATE TABLE City_Info (City text, Country text, Season text,Temperature double,Rainfall double)\")\n",
    "cur.execute(\"INSERT INTO City_Info VALUES('Mumbai', 'India', 'Winter',24.8 ,5.9),('Mumbai','India', 'Spring', 28.4, 16.2), ('Mumbai','India', 'Summer', 27.9, 1549.4), ('Mumbai','India', 'Fall', 27.6, 346.0)\")\n",
    "cur.execute(\"INSERT INTO City_Info VALUES('London','UnitedKingdom','Winter',4.2,207.7),('London', 'United Kindom', 'Spring', 8.3, 169.6), ('London', 'United Kindom', 'Summer', 15.7, 157.0), ('London', 'United Kindom', 'Fall', 10.4, 218.5)\")\n",
    "cur.execute(\"INSERT INTO City_Info VALUES('Cairo', 'Egypt', 'Winter', 13.6, 16.5), ('Cairo', 'Egypt', 'Spring', 20.7, 6.5), ('Cairo', 'Egypt', 'Summer', 27.7, 0.1), ('Cairo', 'Egypt', 'Fall', 22.2, 4.5)\")"
   ]
  },
  {
   "cell_type": "code",
   "execution_count": 35,
   "id": "859d1111",
   "metadata": {},
   "outputs": [
    {
     "data": {
      "text/plain": [
       "[('Mumbai', 'India', 'Winter', 24.8, 5.9),\n",
       " ('Mumbai', 'India', 'Spring', 28.4, 16.2),\n",
       " ('Mumbai', 'India', 'Summer', 27.9, 1549.4),\n",
       " ('Mumbai', 'India', 'Fall', 27.6, 346.0),\n",
       " ('London', 'UnitedKingdom', 'Winter', 4.2, 207.7),\n",
       " ('London', 'United Kindom', 'Spring', 8.3, 169.6),\n",
       " ('London', 'United Kindom', 'Summer', 15.7, 157.0),\n",
       " ('London', 'United Kindom', 'Fall', 10.4, 218.5),\n",
       " ('Cairo', 'Egypt', 'Winter', 13.6, 16.5),\n",
       " ('Cairo', 'Egypt', 'Spring', 20.7, 6.5),\n",
       " ('Cairo', 'Egypt', 'Summer', 27.7, 0.1),\n",
       " ('Cairo', 'Egypt', 'Fall', 22.2, 4.5)]"
      ]
     },
     "execution_count": 35,
     "metadata": {},
     "output_type": "execute_result"
    }
   ],
   "source": [
    "cur.execute('SELECT * FROM City_Info')\n",
    "cur.fetchall()"
   ]
  },
  {
   "cell_type": "markdown",
   "id": "3e78d782",
   "metadata": {},
   "source": [
    "(a)"
   ]
  },
  {
   "cell_type": "code",
   "execution_count": 36,
   "id": "b28c32af",
   "metadata": {},
   "outputs": [
    {
     "data": {
      "text/plain": [
       "[(24.8,),\n",
       " (28.4,),\n",
       " (27.9,),\n",
       " (27.6,),\n",
       " (4.2,),\n",
       " (8.3,),\n",
       " (15.7,),\n",
       " (10.4,),\n",
       " (13.6,),\n",
       " (20.7,),\n",
       " (27.7,),\n",
       " (22.2,)]"
      ]
     },
     "execution_count": 36,
     "metadata": {},
     "output_type": "execute_result"
    }
   ],
   "source": [
    "cur.execute('SELECT Temperature FROM City_Info')\n",
    "cur.fetchall()"
   ]
  },
  {
   "cell_type": "markdown",
   "id": "2ce25612",
   "metadata": {},
   "source": [
    "(b)"
   ]
  },
  {
   "cell_type": "code",
   "execution_count": 37,
   "id": "156c810d",
   "metadata": {},
   "outputs": [
    {
     "data": {
      "text/plain": [
       "[('Mumbai',), ('London',), ('Cairo',)]"
      ]
     },
     "execution_count": 37,
     "metadata": {},
     "output_type": "execute_result"
    }
   ],
   "source": [
    "cur.execute('SELECT DISTINCT(City) FROM City_Info')\n",
    "cur.fetchall()"
   ]
  },
  {
   "cell_type": "markdown",
   "id": "f8c6ee41",
   "metadata": {},
   "source": [
    "(c)"
   ]
  },
  {
   "cell_type": "code",
   "execution_count": 40,
   "id": "31ad4cf2",
   "metadata": {},
   "outputs": [
    {
     "data": {
      "text/plain": [
       "[('Mumbai', 'India', 'Winter', 24.8, 5.9),\n",
       " ('Mumbai', 'India', 'Spring', 28.4, 16.2),\n",
       " ('Mumbai', 'India', 'Summer', 27.9, 1549.4),\n",
       " ('Mumbai', 'India', 'Fall', 27.6, 346.0)]"
      ]
     },
     "execution_count": 40,
     "metadata": {},
     "output_type": "execute_result"
    }
   ],
   "source": [
    "cur.execute('SELECT * FROM City_Info WHERE Country=\"India\"')\n",
    "cur.fetchall()"
   ]
  },
  {
   "cell_type": "markdown",
   "id": "b6196382",
   "metadata": {},
   "source": [
    "(d)"
   ]
  },
  {
   "cell_type": "code",
   "execution_count": 41,
   "id": "211efbe9",
   "metadata": {},
   "outputs": [
    {
     "data": {
      "text/plain": [
       "[('Mumbai', 'India', 'Fall', 27.6, 346.0),\n",
       " ('London', 'United Kindom', 'Fall', 10.4, 218.5),\n",
       " ('Cairo', 'Egypt', 'Fall', 22.2, 4.5)]"
      ]
     },
     "execution_count": 41,
     "metadata": {},
     "output_type": "execute_result"
    }
   ],
   "source": [
    "cur.execute('SELECT * FROM City_Info WHERE Season=\"Fall\"')\n",
    "cur.fetchall()"
   ]
  },
  {
   "cell_type": "markdown",
   "id": "0b95ed1b",
   "metadata": {},
   "source": [
    "(e)"
   ]
  },
  {
   "cell_type": "code",
   "execution_count": 44,
   "id": "e2845453",
   "metadata": {},
   "outputs": [
    {
     "data": {
      "text/plain": [
       "[('London', 'United Kindom', 'Fall', 218.5),\n",
       " ('London', 'UnitedKingdom', 'Winter', 207.7),\n",
       " ('Mumbai', 'India', 'Fall', 346.0)]"
      ]
     },
     "execution_count": 44,
     "metadata": {},
     "output_type": "execute_result"
    }
   ],
   "source": [
    "cur.execute('SELECT City,Country,Season,AVG(Rainfall) FROM City_Info GROUP BY City,Country,Season HAVING AVG(Rainfall)>200 and AVG(Rainfall)<400')\n",
    "cur.fetchall()"
   ]
  },
  {
   "cell_type": "markdown",
   "id": "45868c30",
   "metadata": {},
   "source": [
    "(f)"
   ]
  },
  {
   "cell_type": "code",
   "execution_count": 45,
   "id": "e2981b28",
   "metadata": {},
   "outputs": [
    {
     "data": {
      "text/plain": [
       "[('Cairo', 'Egypt', 23.53333333333333),\n",
       " ('Mumbai', 'India', 27.174999999999997)]"
      ]
     },
     "execution_count": 45,
     "metadata": {},
     "output_type": "execute_result"
    }
   ],
   "source": [
    "cur.execute('SELECT City, Country, AVG(Temperature) FROM City_Info where Temperature > 20 GROUP BY City, Country HAVING AVG(Temperature) > 20 ORDER By Temperature ASC')\n",
    "cur.fetchall()"
   ]
  },
  {
   "cell_type": "markdown",
   "id": "f0ea7ea9",
   "metadata": {},
   "source": [
    "(g)"
   ]
  },
  {
   "cell_type": "code",
   "execution_count": 46,
   "id": "e6239e07",
   "metadata": {},
   "outputs": [
    {
     "data": {
      "text/plain": [
       "[(27.6,)]"
      ]
     },
     "execution_count": 46,
     "metadata": {},
     "output_type": "execute_result"
    }
   ],
   "source": [
    "cur.execute('SELECT SUM(Rainfall) FROM City_Info WHERE City=\"Cairo\"')\n",
    "cur.fetchall()"
   ]
  },
  {
   "cell_type": "markdown",
   "id": "0e8a3a3a",
   "metadata": {},
   "source": [
    "(h)"
   ]
  },
  {
   "cell_type": "code",
   "execution_count": 48,
   "id": "5092c8f6",
   "metadata": {},
   "outputs": [
    {
     "data": {
      "text/plain": [
       "[('Fall', 569.0),\n",
       " ('Spring', 192.29999999999998),\n",
       " ('Summer', 1706.5),\n",
       " ('Winter', 230.1)]"
      ]
     },
     "execution_count": 48,
     "metadata": {},
     "output_type": "execute_result"
    }
   ],
   "source": [
    "cur.execute('SELECT Season,SUM(Rainfall) FROM City_Info GROUP BY Season')\n",
    "cur.fetchall()"
   ]
  },
  {
   "cell_type": "markdown",
   "id": "7560d06a",
   "metadata": {},
   "source": [
    "Question 9"
   ]
  },
  {
   "cell_type": "code",
   "execution_count": 19,
   "id": "dae0b4f1",
   "metadata": {},
   "outputs": [],
   "source": [
    " words = ['The', 'quick', 'brown', 'fox', 'jumps', 'over','the', 'lazy', 'dog']"
   ]
  },
  {
   "cell_type": "markdown",
   "id": "d5aab209",
   "metadata": {},
   "source": [
    "(a)"
   ]
  },
  {
   "cell_type": "code",
   "execution_count": 25,
   "id": "dc557c9e",
   "metadata": {},
   "outputs": [
    {
     "data": {
      "text/plain": [
       "['THE', 'QUICK', 'BROWN', 'FOX', 'JUMPS', 'OVER', 'THE', 'LAZY', 'DOG']"
      ]
     },
     "execution_count": 25,
     "metadata": {},
     "output_type": "execute_result"
    }
   ],
   "source": [
    "word1=[word_u.upper() for word_u in words]\n",
    "word1"
   ]
  },
  {
   "cell_type": "markdown",
   "id": "1b34e490",
   "metadata": {},
   "source": [
    "(b)"
   ]
  },
  {
   "cell_type": "code",
   "execution_count": 26,
   "id": "0ee6cdaa",
   "metadata": {},
   "outputs": [
    {
     "data": {
      "text/plain": [
       "['the', 'quick', 'brown', 'fox', 'jumps', 'over', 'the', 'lazy', 'dog']"
      ]
     },
     "execution_count": 26,
     "metadata": {},
     "output_type": "execute_result"
    }
   ],
   "source": [
    "word2=[word_l.lower() for word_l in words]\n",
    "word2"
   ]
  },
  {
   "cell_type": "markdown",
   "id": "7fab5e01",
   "metadata": {},
   "source": [
    "(c)"
   ]
  },
  {
   "cell_type": "code",
   "execution_count": 28,
   "id": "72bdc5cb",
   "metadata": {},
   "outputs": [
    {
     "data": {
      "text/plain": [
       "[3, 5, 5, 3, 5, 4, 3, 4, 3]"
      ]
     },
     "execution_count": 28,
     "metadata": {},
     "output_type": "execute_result"
    }
   ],
   "source": [
    "word3=[len(word_len) for word_len in words]\n",
    "word3"
   ]
  },
  {
   "cell_type": "markdown",
   "id": "7d1a797e",
   "metadata": {},
   "source": [
    "(d)"
   ]
  },
  {
   "cell_type": "code",
   "execution_count": 29,
   "id": "757d6bd1",
   "metadata": {},
   "outputs": [
    {
     "data": {
      "text/plain": [
       "[['THE', 'the', 3],\n",
       " ['QUICK', 'quick', 5],\n",
       " ['BROWN', 'brown', 5],\n",
       " ['FOX', 'fox', 3],\n",
       " ['JUMPS', 'jumps', 5],\n",
       " ['OVER', 'over', 4],\n",
       " ['THE', 'the', 3],\n",
       " ['LAZY', 'lazy', 4],\n",
       " ['DOG', 'dog', 3]]"
      ]
     },
     "execution_count": 29,
     "metadata": {},
     "output_type": "execute_result"
    }
   ],
   "source": [
    "word4=[[a,b,c] for a,b,c in zip(word1,word2,word3)]\n",
    "word4"
   ]
  },
  {
   "cell_type": "markdown",
   "id": "dc37eca5",
   "metadata": {},
   "source": [
    "(e)"
   ]
  },
  {
   "cell_type": "code",
   "execution_count": 30,
   "id": "907c704e",
   "metadata": {},
   "outputs": [
    {
     "data": {
      "text/plain": [
       "['quick', 'brown', 'jumps', 'over', 'lazy']"
      ]
     },
     "execution_count": 30,
     "metadata": {},
     "output_type": "execute_result"
    }
   ],
   "source": [
    "word5=[]\n",
    "[word5.append(word_a) for word_a in words if len(word_a)>=4]\n",
    "word5"
   ]
  },
  {
   "cell_type": "code",
   "execution_count": null,
   "id": "a435a4c5",
   "metadata": {},
   "outputs": [],
   "source": []
  }
 ],
 "metadata": {
  "kernelspec": {
   "display_name": "Python 3 (ipykernel)",
   "language": "python",
   "name": "python3"
  },
  "language_info": {
   "codemirror_mode": {
    "name": "ipython",
    "version": 3
   },
   "file_extension": ".py",
   "mimetype": "text/x-python",
   "name": "python",
   "nbconvert_exporter": "python",
   "pygments_lexer": "ipython3",
   "version": "3.9.12"
  }
 },
 "nbformat": 4,
 "nbformat_minor": 5
}
